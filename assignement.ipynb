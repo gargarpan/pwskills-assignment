{
 "cells": [
  {
   "cell_type": "code",
   "execution_count": 1,
   "id": "b3057573-5e59-476f-a335-2cce350eb83a",
   "metadata": {},
   "outputs": [],
   "source": [
    "# Q1"
   ]
  },
  {
   "cell_type": "code",
   "execution_count": 15,
   "id": "700cfb32-9704-43f5-acfc-93736f70e403",
   "metadata": {},
   "outputs": [
    {
     "name": "stdin",
     "output_type": "stream",
     "text": [
      "enter the upper limit 55\n",
      "enter the lower limit 3\n"
     ]
    }
   ],
   "source": [
    "\n",
    "\n",
    "\n",
    "\n",
    "lowerlimit = int(input(\"enter the upper limit\"))\n",
    "upperlimit = int(input(\"enter the lower limit\"))\n",
    "                \n",
    "for i in range(lowerlimit , upperlimit):\n",
    "    if i%2!=0:\n",
    "       print(i)"
   ]
  },
  {
   "cell_type": "code",
   "execution_count": null,
   "id": "4c47b323-af4a-422c-9977-ce5dc2619dd4",
   "metadata": {},
   "outputs": [],
   "source": [
    "def test():\n",
    "    "
   ]
  },
  {
   "cell_type": "code",
   "execution_count": 20,
   "id": "edfc23ca-6845-40a5-9561-260ae69c2c40",
   "metadata": {},
   "outputs": [
    {
     "name": "stdin",
     "output_type": "stream",
     "text": [
      "enter the lower limit 1\n",
      "enter the upper limit 25\n"
     ]
    },
    {
     "name": "stdout",
     "output_type": "stream",
     "text": [
      "1\n",
      "3\n",
      "5\n",
      "7\n",
      "9\n",
      "11\n",
      "13\n",
      "15\n",
      "17\n",
      "19\n",
      "21\n",
      "23\n"
     ]
    }
   ],
   "source": [
    "lowerlimit = int(input(\"enter the lower limit\"))\n",
    "upperlimit = int(input(\"enter the upper limit\"))\n",
    "                \n",
    "for i in range(lowerlimit , upperlimit):\n",
    "    if i%2!=0:\n",
    "       print(i)"
   ]
  },
  {
   "cell_type": "code",
   "execution_count": 21,
   "id": "ab171a0a-bae8-4311-ad06-eaca4238ff7c",
   "metadata": {},
   "outputs": [],
   "source": [
    "#Q2"
   ]
  },
  {
   "cell_type": "code",
   "execution_count": 30,
   "id": "58bd8e06-3c29-44fe-b0d6-cbfc8833ae3e",
   "metadata": {},
   "outputs": [],
   "source": [
    "# *args=any number of argument pass inside the function\n",
    "  # **kwargs= any number of argument pass in form of dictationary in the function\n",
    "\n"
   ]
  },
  {
   "cell_type": "code",
   "execution_count": 23,
   "id": "f2f89898-6275-4eaf-8a47-fa0e918411f8",
   "metadata": {},
   "outputs": [],
   "source": [
    "def test(*args):\n",
    "    return args"
   ]
  },
  {
   "cell_type": "code",
   "execution_count": 24,
   "id": "ac8d4b63-846b-4580-8d3f-570acf7618c2",
   "metadata": {},
   "outputs": [
    {
     "data": {
      "text/plain": [
       "(1, 2, 3, 'arpan', 23.33)"
      ]
     },
     "execution_count": 24,
     "metadata": {},
     "output_type": "execute_result"
    }
   ],
   "source": [
    "test(1,2,3, \"arpan\", 23.33)"
   ]
  },
  {
   "cell_type": "code",
   "execution_count": 25,
   "id": "06a54e69-82bb-45b8-aae1-032375da9ba9",
   "metadata": {},
   "outputs": [],
   "source": [
    "def test1(**kwargs):\n",
    "    return kwargs"
   ]
  },
  {
   "cell_type": "code",
   "execution_count": 28,
   "id": "da2e388c-7ecc-4e7e-b233-ed9f2e9fd278",
   "metadata": {},
   "outputs": [
    {
     "data": {
      "text/plain": [
       "dict"
      ]
     },
     "execution_count": 28,
     "metadata": {},
     "output_type": "execute_result"
    }
   ],
   "source": [
    "type(test1())"
   ]
  },
  {
   "cell_type": "code",
   "execution_count": 29,
   "id": "009fa32d-dc00-44f8-ae1c-b1ad9c0cbf43",
   "metadata": {},
   "outputs": [
    {
     "data": {
      "text/plain": [
       "{'a': [1, 2, 3, 4], 'b': 'arpan garg'}"
      ]
     },
     "execution_count": 29,
     "metadata": {},
     "output_type": "execute_result"
    }
   ],
   "source": [
    "test1(a=[1,2,3,4], b=\"arpan garg\" )"
   ]
  },
  {
   "cell_type": "code",
   "execution_count": 31,
   "id": "0d3e3a2c-5991-4fcd-ab1e-9747e639f74d",
   "metadata": {},
   "outputs": [],
   "source": [
    "# Q3. What is an iterator in python? Name the method used to initialise the iterator object and the method\n",
    "#used for iteration. Use these methods to print the first five elements of the given list [2, 4, 6, 8, 10, 12, 14,\n",
    "#16, 18, 20].\n",
    "\n",
    "# An iterator is an object that contains a countable number of values."
   ]
  },
  {
   "cell_type": "code",
   "execution_count": 32,
   "id": "f5b9a600-b9c5-4143-882d-5f42822ab289",
   "metadata": {},
   "outputs": [],
   "source": [
    "s=\"arpan\"\n"
   ]
  },
  {
   "cell_type": "code",
   "execution_count": 33,
   "id": "8548ef84-1d4a-4eee-bcce-9aff1f15577a",
   "metadata": {},
   "outputs": [],
   "source": [
    "s1=iter(s)"
   ]
  },
  {
   "cell_type": "code",
   "execution_count": 34,
   "id": "892d9385-44d5-4c4a-828f-6f8892922501",
   "metadata": {},
   "outputs": [
    {
     "data": {
      "text/plain": [
       "'a'"
      ]
     },
     "execution_count": 34,
     "metadata": {},
     "output_type": "execute_result"
    }
   ],
   "source": [
    "next(s1)"
   ]
  },
  {
   "cell_type": "code",
   "execution_count": 35,
   "id": "21ce0991-cc9f-4008-b813-d4a0f55daabc",
   "metadata": {},
   "outputs": [
    {
     "data": {
      "text/plain": [
       "'r'"
      ]
     },
     "execution_count": 35,
     "metadata": {},
     "output_type": "execute_result"
    }
   ],
   "source": [
    "next(s1)"
   ]
  },
  {
   "cell_type": "code",
   "execution_count": 36,
   "id": "74827961-a48f-4697-a6c0-cd5531cf8b00",
   "metadata": {},
   "outputs": [
    {
     "data": {
      "text/plain": [
       "'p'"
      ]
     },
     "execution_count": 36,
     "metadata": {},
     "output_type": "execute_result"
    }
   ],
   "source": [
    "next(s1)"
   ]
  },
  {
   "cell_type": "code",
   "execution_count": 37,
   "id": "87920fd5-ee41-4e14-a2b8-25a19c5fe233",
   "metadata": {},
   "outputs": [
    {
     "data": {
      "text/plain": [
       "'a'"
      ]
     },
     "execution_count": 37,
     "metadata": {},
     "output_type": "execute_result"
    }
   ],
   "source": [
    "next(s1)"
   ]
  },
  {
   "cell_type": "code",
   "execution_count": 38,
   "id": "b08cd609-2598-4f7d-a963-a50b70e4c5ea",
   "metadata": {},
   "outputs": [
    {
     "data": {
      "text/plain": [
       "'n'"
      ]
     },
     "execution_count": 38,
     "metadata": {},
     "output_type": "execute_result"
    }
   ],
   "source": [
    "next(s1)"
   ]
  },
  {
   "cell_type": "code",
   "execution_count": 41,
   "id": "43f2b7ae-9b67-4887-bce9-5eae8523a893",
   "metadata": {},
   "outputs": [],
   "source": [
    "l=[2, 4, 6, 8, 10, 12, 14,16, 18, 20]\n",
    "l1=iter(l)"
   ]
  },
  {
   "cell_type": "code",
   "execution_count": 42,
   "id": "de4dec0a-f26c-401d-947d-e677e8d168c3",
   "metadata": {},
   "outputs": [
    {
     "data": {
      "text/plain": [
       "2"
      ]
     },
     "execution_count": 42,
     "metadata": {},
     "output_type": "execute_result"
    }
   ],
   "source": [
    "next(l1)"
   ]
  },
  {
   "cell_type": "code",
   "execution_count": 43,
   "id": "30d48fba-817d-43dd-85cb-00566125fbc5",
   "metadata": {},
   "outputs": [
    {
     "data": {
      "text/plain": [
       "4"
      ]
     },
     "execution_count": 43,
     "metadata": {},
     "output_type": "execute_result"
    }
   ],
   "source": [
    "next(l1)"
   ]
  },
  {
   "cell_type": "code",
   "execution_count": 44,
   "id": "3f575622-a689-4244-8f70-f99d9d67ebfe",
   "metadata": {},
   "outputs": [
    {
     "data": {
      "text/plain": [
       "6"
      ]
     },
     "execution_count": 44,
     "metadata": {},
     "output_type": "execute_result"
    }
   ],
   "source": [
    "next(l1)"
   ]
  },
  {
   "cell_type": "code",
   "execution_count": 45,
   "id": "a11fccb2-4b5d-4b2b-a33d-2fdfbfad4f25",
   "metadata": {},
   "outputs": [
    {
     "data": {
      "text/plain": [
       "8"
      ]
     },
     "execution_count": 45,
     "metadata": {},
     "output_type": "execute_result"
    }
   ],
   "source": [
    "next(l1)"
   ]
  },
  {
   "cell_type": "code",
   "execution_count": 46,
   "id": "249d03d9-cf22-4621-b2de-5f5d9473d447",
   "metadata": {},
   "outputs": [
    {
     "data": {
      "text/plain": [
       "10"
      ]
     },
     "execution_count": 46,
     "metadata": {},
     "output_type": "execute_result"
    }
   ],
   "source": [
    "next(l1)"
   ]
  },
  {
   "cell_type": "code",
   "execution_count": 47,
   "id": "cee919c8-56ca-41c4-b7d0-1203c47633a2",
   "metadata": {},
   "outputs": [],
   "source": [
    "# Q4. What is a generator function in python? Why yield keyword is used? Give an example of a generator function."
   ]
  },
  {
   "cell_type": "code",
   "execution_count": 1,
   "id": "f1e1f7c8-f482-4990-b91c-dfe72b92f386",
   "metadata": {},
   "outputs": [],
   "source": [
    "#a geneator function is a function that return iterator using yield keyword"
   ]
  },
  {
   "cell_type": "code",
   "execution_count": 3,
   "id": "11ccee94-4aab-4794-b200-78cd0cdc6032",
   "metadata": {},
   "outputs": [],
   "source": [
    "def fib(n):\n",
    "    a,b=0,1\n",
    "    for i in range(n):\n",
    "        yield a\n",
    "        a,b=b ,a+b"
   ]
  },
  {
   "cell_type": "code",
   "execution_count": 4,
   "id": "7cdce441-b438-4a81-9db2-925243d53d18",
   "metadata": {},
   "outputs": [
    {
     "data": {
      "text/plain": [
       "<generator object fib at 0x7fa7d2299850>"
      ]
     },
     "execution_count": 4,
     "metadata": {},
     "output_type": "execute_result"
    }
   ],
   "source": [
    "fib(20)"
   ]
  },
  {
   "cell_type": "code",
   "execution_count": 5,
   "id": "251cc4cb-3627-4498-9334-79850063a39e",
   "metadata": {},
   "outputs": [
    {
     "name": "stdout",
     "output_type": "stream",
     "text": [
      "0\n",
      "1\n",
      "1\n",
      "2\n",
      "3\n",
      "5\n",
      "8\n",
      "13\n",
      "21\n",
      "34\n",
      "55\n",
      "89\n",
      "144\n",
      "233\n",
      "377\n",
      "610\n",
      "987\n",
      "1597\n",
      "2584\n",
      "4181\n"
     ]
    }
   ],
   "source": [
    "for i in fib(20):\n",
    "    print(i)"
   ]
  },
  {
   "cell_type": "code",
   "execution_count": 6,
   "id": "944980d5-44b1-42dd-ac88-b6a1df85d060",
   "metadata": {},
   "outputs": [],
   "source": [
    "# Q5. Create a generator function for prime numbers less than 1000. Use the next() method to print the first 20 prime numbers."
   ]
  },
  {
   "cell_type": "code",
   "execution_count": null,
   "id": "9e282a98-21c4-4671-b99e-71f7cb0a52a0",
   "metadata": {},
   "outputs": [],
   "source": [
    "def getPrimes(n):\n",
    "    prime=True\n",
    "    i=2\n",
    "    while(i<n):\n",
    "        for a in range(2,i):\n",
    "            if(i%a==0):\n",
    "                prime=False\n",
    "                break\n",
    "        if(prime):    \n",
    "            yield i"
   ]
  },
  {
   "cell_type": "code",
   "execution_count": 18,
   "id": "42b85b96-c947-479b-842d-36121e5e23a9",
   "metadata": {},
   "outputs": [
    {
     "data": {
      "text/plain": [
       "<generator object getPrimes at 0x7fa7d2298ac0>"
      ]
     },
     "execution_count": 18,
     "metadata": {},
     "output_type": "execute_result"
    }
   ],
   "source": [
    "getPrimes(1000)"
   ]
  },
  {
   "cell_type": "code",
   "execution_count": null,
   "id": "1b0a3306-8c2b-484b-a621-ae0510544bd0",
   "metadata": {},
   "outputs": [],
   "source": [
    "for x in getPrimes(1000):\n",
    "    print(x)"
   ]
  },
  {
   "cell_type": "code",
   "execution_count": null,
   "id": "1bd72fd7-c93b-4a29-ba7f-74916e3efebf",
   "metadata": {},
   "outputs": [],
   "source": [
    "# Write a python program to print the first 10 Fibonacci numbers using a while loop."
   ]
  },
  {
   "cell_type": "code",
   "execution_count": null,
   "id": "4bab112d-47bd-4464-b7ee-4483d06f86aa",
   "metadata": {},
   "outputs": [],
   "source": [
    "n = int(input(\"Enter length of Fibonacci series: \"))\n",
    "num1 = 0\n",
    "num2 = 1\n",
    "next_number = 0\n",
    "count = 1\n",
    "  \n",
    "while(count <= n):\n",
    "    print(next_number, end=\" \")\n",
    "    count += 1\n",
    "    num1 = num2\n",
    "    num2 = next_number\n",
    "    next_number = num1 + num2\n",
    "    t_number = num1 + num2\n",
    "    "
   ]
  },
  {
   "cell_type": "code",
   "execution_count": null,
   "id": "7916f380-6d0c-4d8b-b239-1f34b3a7814c",
   "metadata": {},
   "outputs": [],
   "source": [
    "#Q7. Write a List Comprehension to iterate through the given string: ‘pwskills’.Expected output: ['p', 'w', 's', 'k', 'i', 'l', 'l', 's']"
   ]
  },
  {
   "cell_type": "code",
   "execution_count": null,
   "id": "5c540354-8deb-44af-b476-d74d84747f9d",
   "metadata": {},
   "outputs": [],
   "source": [
    "\n",
    "\n",
    "\n",
    "s = \"pwskills\"\n",
    "\n",
    "list(map(lambda s : s.upper() , s))"
   ]
  },
  {
   "cell_type": "code",
   "execution_count": null,
   "id": "b161299e-1389-4e39-ab0d-f045b0b19f49",
   "metadata": {},
   "outputs": [],
   "source": [
    "#Q8. Write a python program to check whether a given number is Palindrome or not using a while loop."
   ]
  },
  {
   "cell_type": "code",
   "execution_count": null,
   "id": "788f5023-fee6-4640-b9f6-8d7f6a3ea0fa",
   "metadata": {},
   "outputs": [],
   "source": [
    "# palindrome program in python using while loop\n",
    "\n",
    "num = 11\n",
    "\n",
    "reverse = 0\n",
    "number = num\n",
    "while(num != 0):\n",
    "   remainder = num % 10\n",
    "   reverse = reverse * 10 + remainder\n",
    "   num = int(num / 10)\n",
    "\n",
    "\n",
    "if(number == reverse):\n",
    "   print(number,'is a Palindrome')\n",
    "else:\n",
    "   print(number,'is not a Palindrome')"
   ]
  },
  {
   "cell_type": "code",
   "execution_count": null,
   "id": "4995101e-c697-482c-b7ac-ef4d36abcf1a",
   "metadata": {},
   "outputs": [],
   "source": [
    "#Q9. Write a code to print odd numbers from 1 to 100 using list comprehension."
   ]
  },
  {
   "cell_type": "code",
   "execution_count": null,
   "id": "19d6727f-988f-4e39-858c-b9a20a8b41cb",
   "metadata": {},
   "outputs": [],
   "source": [
    "\n",
    "    odd_list = [element for element in range(1, 101) if element % 2 == 1 ]\n",
    "print(odd_list)"
   ]
  },
  {
   "cell_type": "code",
   "execution_count": null,
   "id": "7a478754-f7ab-4a6f-adda-2871685a6e25",
   "metadata": {},
   "outputs": [],
   "source": []
  },
  {
   "cell_type": "code",
   "execution_count": null,
   "id": "977621b0-30b7-4499-90fc-bca64f80100c",
   "metadata": {},
   "outputs": [],
   "source": [
    "\n",
    "\n"
   ]
  },
  {
   "cell_type": "code",
   "execution_count": null,
   "id": "f5d21860-2698-4bbf-93ae-55672b8ad463",
   "metadata": {},
   "outputs": [],
   "source": [
    "print(\"hello')"
   ]
  },
  {
   "cell_type": "code",
   "execution_count": null,
   "id": "43d6d388-87d9-406f-8185-a7871d5b348c",
   "metadata": {},
   "outputs": [],
   "source": []
  },
  {
   "cell_type": "code",
   "execution_count": null,
   "id": "d9ac4e67-4ad8-4037-98e0-577410f42462",
   "metadata": {},
   "outputs": [],
   "source": []
  }
 ],
 "metadata": {
  "kernelspec": {
   "display_name": "Python 3 (ipykernel)",
   "language": "python",
   "name": "python3"
  },
  "language_info": {
   "codemirror_mode": {
    "name": "ipython",
    "version": 3
   },
   "file_extension": ".py",
   "mimetype": "text/x-python",
   "name": "python",
   "nbconvert_exporter": "python",
   "pygments_lexer": "ipython3",
   "version": "3.10.8"
  }
 },
 "nbformat": 4,
 "nbformat_minor": 5
}
